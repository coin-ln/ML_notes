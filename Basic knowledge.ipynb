{
 "cells": [
  {
   "attachments": {},
   "cell_type": "markdown",
   "metadata": {},
   "source": [
    "# 统计学习的分类"
   ]
  },
  {
   "attachments": {},
   "cell_type": "markdown",
   "metadata": {},
   "source": [
    "## 基本分类\n",
    "<font face='黑体' size=2>\n",
    "监督学习\n",
    "    :指从\" 标注数据 \"中学习预测模型的机器学习问题.<p></p>\n",
    "&emsp;&emsp;实质:学习输入到输出的映射的统计规律<p></p>\n",
    "无监督学习\n",
    "    :指从\" 无标注数据 \"中学习预测模型的机器学习问题.<p></p>\n",
    "&emsp;&emsp;实质:学习数据中的统计规律或潜在结构<p></p>\n",
    "强化学习\n",
    "    :指智能系统在与环境的连续互动中学习最优行为策略的机器学习问题.<p></p>  \n",
    "&emsp;&emsp;实质:学习最优的序贯决策<p></p>\n",
    "监督和无监督的区别在于数据有无\"标注\".\n",
    "</font>\n"
   ]
  },
  {
   "attachments": {},
   "cell_type": "markdown",
   "metadata": {},
   "source": [
    "## 按模型分类\n",
    "### 概率与非概率\n",
    "<font size=2>\n",
    "概率模型：一定可以表示为联合概率分布的形式.&emsp;在监督学习中，属于&nbsp;生成模型<p></p>\n",
    "\n",
    "非概率模型：不一定能表示为联合概率分布的形式.&emsp;在监督学习中，属于&nbsp;判别模型<p></p>\n",
    "\n",
    "</font>\n",
    "\n",
    "### 线性与非线性\n",
    "<font size=2>\n",
    "线性模型：函数为线性函数<p></p>\n",
    "\n",
    "非线性模型：函数为非线性函数<p></p>\n",
    "\n",
    "</font>\n",
    "\n",
    "### 参数化与非参数化\n",
    "<font size=2>\n",
    "参数化模型：假设模型参数的维数固定,模型可以由有限维参数完全刻画<p></p>\n",
    "\n",
    "非参数化模型：假设模型参数的维数不固定或者无穷大,随着训练数据量的增加而不断增大<p></p>\n",
    "\n",
    "</font>\n",
    "\n"
   ]
  },
  {
   "attachments": {},
   "cell_type": "markdown",
   "metadata": {},
   "source": [
    "## 按技巧分类\n",
    "<font size=2>\n",
    "贝叶斯学习  \n",
    "\n",
    "核方法\n",
    "</font>"
   ]
  },
  {
   "attachments": {},
   "cell_type": "markdown",
   "metadata": {},
   "source": [
    "# 损失函数\n",
    "<font size=3>\n",
    "（1） 0-1&nbsp;损失函数\n",
    "</font><p></p>\n",
    "\n",
    "$$ L(Y, f(X))=\\left\\{\\begin{array}{ll}\n",
    "1, & Y \\neq f(X) \\\\\n",
    "0, & Y=f(X)\n",
    "\\end{array}\\right. $$ \n",
    "\n",
    "\n",
    "<font size=3> \n",
    "（2） 平方损失函数\n",
    "</font><p></p>\n",
    "\n",
    "$$ \n",
    "L(Y, f(X))=(Y-f(X))^{2} \n",
    "$$ \n",
    "\n",
    "<font size=3> \n",
    "（3） 绝对损失函数\n",
    "</font><p></p>\n",
    "\n",
    "$$ \n",
    "L(Y, f(X))=|Y-f(X)|\n",
    "$$ \n",
    "\n",
    "<font size=3> \n",
    "（4） 对数损失函数\n",
    "</font><p></p>\n",
    "\n",
    "$$ \n",
    "L(Y, P(Y \\mid X))=-\\log P(Y \\mid X)\n",
    "$$ \n"
   ]
  },
  {
   "cell_type": "markdown",
   "metadata": {},
   "source": []
  },
  {
   "cell_type": "markdown",
   "metadata": {},
   "source": []
  },
  {
   "attachments": {},
   "cell_type": "markdown",
   "metadata": {},
   "source": [
    "## 常用分类器的性能指标\n",
    "TP: 将 正类 预测为 正类 的数量  (true in positive)  \n",
    "FN: 将 正类 预测为 负类 的数量  (false in negative)  \n",
    "FP: 将 负类 预测为 正类 的数量  (false in positive)  \n",
    "TN: 将 负类 预测为 负类 的数量  (true in negative)  \n",
    "$SUM=TP+FN+FP+TN$  \n",
    "| 预测\\真实 | 正类 | 负类 |  \n",
    "|  :-----: | :----: | :----: |\n",
    "| 正类 | TP | FP |\n",
    "| 负类 | FN | TN |\n",
    "\n",
    "准确率:$\\frac{正确分类的样本数}{总样本数}=\\frac{TP+TN}{SUM}$   \n",
    "    \n",
    "意义:能反映模型预测的准确程度  \n",
    "    \n",
    "精确率：$P=\\frac{TP}{TP+TN}$  \n",
    "    \n",
    "意义：能反映预测为true中有多少正样本      \n",
    "    \n",
    "召回率：$R=\\frac{TP}{TP+FN}$  \n",
    "    \n",
    "意义：能反映正样本中有多少被预测为true    \n",
    "    \n",
    "F1值:$\\frac{2}{F1}=\\frac{1}{P}+\\frac{1}{R}$  \n",
    "\n",
    "$F1=\\frac{2TP}{2TP+FP+FN}$\n",
    "     \n",
    "意义：精确率和召回率的调和均值  \n",
    "\n",
    "案例：  \n",
    "某池塘有1400条鲤鱼，300只虾，300只鳖。现在以捕鲤鱼为目的。撒一大网，逮着了所有的鱼虾鳖。  \n",
    "\n",
    "$正确率=\\frac{1400}{1400+300+300}$  \n",
    "\n",
    "$召回率=\\frac{1400}{1400}$\n",
    "\n",
    "\n"
   ]
  },
  {
   "cell_type": "markdown",
   "metadata": {},
   "source": []
  },
  {
   "cell_type": "markdown",
   "metadata": {},
   "source": []
  },
  {
   "cell_type": "markdown",
   "metadata": {},
   "source": []
  },
  {
   "cell_type": "markdown",
   "metadata": {},
   "source": []
  }
 ],
 "metadata": {
  "kernelspec": {
   "display_name": "Python 3",
   "language": "python",
   "name": "python3"
  },
  "language_info": {
   "codemirror_mode": {
    "name": "ipython",
    "version": 3
   },
   "file_extension": ".py",
   "mimetype": "text/x-python",
   "name": "python",
   "nbconvert_exporter": "python",
   "pygments_lexer": "ipython3",
   "version": "3.8.10"
  },
  "orig_nbformat": 4,
  "vscode": {
   "interpreter": {
    "hash": "f46ba26180935f2312e439b1f8f9451fdb8ef327d9e4258a696a903dcdd2be8e"
   }
  }
 },
 "nbformat": 4,
 "nbformat_minor": 2
}
